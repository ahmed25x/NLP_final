{
 "cells": [
  {
   "cell_type": "code",
   "execution_count": 245,
   "id": "a5637b93",
   "metadata": {},
   "outputs": [],
   "source": [
    "import pandas as pd\n",
    "import numpy as np\n",
    "import matplotlib.pyplot as plt\n",
    "import re\n",
    "import nltk\n",
    "from nltk.tokenize import word_tokenize\n",
    "from nltk.corpus import stopwords\n",
    "from nltk.stem import PorterStemmer\n",
    "from nltk.stem.wordnet import WordNetLemmatizer\n",
    "from nltk.probability import FreqDist\n",
    "from nltk.util import ngrams\n",
    "from wordcloud import WordCloud\n",
    "from collections import Counter\n",
    "from transformers import AutoTokenizer, AutoModelForSequenceClassification\n",
    "from scipy.special import softmax\n",
    "import twint\n",
    "import nest_asyncio\n",
    "import datetime as dt\n",
    "import seaborn as sns\n",
    "from textblob import TextBlob\n",
    "from nltk import pos_tag\n",
    "from nltk import sent_tokenize\n",
    "from sklearn.feature_extraction.text import TfidfVectorizer"
   ]
  },
  {
   "cell_type": "code",
   "execution_count": 51,
   "id": "034f48d2",
   "metadata": {},
   "outputs": [
    {
     "name": "stderr",
     "output_type": "stream",
     "text": [
      "[nltk_data] Downloading package punkt to /Users/student/nltk_data...\n",
      "[nltk_data]   Package punkt is already up-to-date!\n",
      "[nltk_data] Downloading package stopwords to\n",
      "[nltk_data]     /Users/student/nltk_data...\n",
      "[nltk_data]   Package stopwords is already up-to-date!\n"
     ]
    },
    {
     "data": {
      "text/plain": [
       "True"
      ]
     },
     "execution_count": 51,
     "metadata": {},
     "output_type": "execute_result"
    }
   ],
   "source": [
    "nltk.download('punkt')\n",
    "nltk.download('stopwords')"
   ]
  },
  {
   "cell_type": "code",
   "execution_count": 19,
   "id": "beaeb7b2",
   "metadata": {},
   "outputs": [],
   "source": [
    "tweets = pd.read_csv(\"tweets.csv\", dtype = \"string\")"
   ]
  },
  {
   "cell_type": "code",
   "execution_count": 205,
   "id": "0f4ee91e",
   "metadata": {},
   "outputs": [],
   "source": [
    "tweets_data = tweets.head(500)"
   ]
  },
  {
   "cell_type": "code",
   "execution_count": 206,
   "id": "978598e2",
   "metadata": {},
   "outputs": [
    {
     "data": {
      "text/html": [
       "<div>\n",
       "<style scoped>\n",
       "    .dataframe tbody tr th:only-of-type {\n",
       "        vertical-align: middle;\n",
       "    }\n",
       "\n",
       "    .dataframe tbody tr th {\n",
       "        vertical-align: top;\n",
       "    }\n",
       "\n",
       "    .dataframe thead th {\n",
       "        text-align: right;\n",
       "    }\n",
       "</style>\n",
       "<table border=\"1\" class=\"dataframe\">\n",
       "  <thead>\n",
       "    <tr style=\"text-align: right;\">\n",
       "      <th></th>\n",
       "      <th>user_name</th>\n",
       "      <th>text</th>\n",
       "      <th>user_location</th>\n",
       "      <th>user_description</th>\n",
       "      <th>user_created</th>\n",
       "      <th>user_followers</th>\n",
       "      <th>user_friends</th>\n",
       "      <th>user_favourites</th>\n",
       "      <th>user_verified</th>\n",
       "      <th>date</th>\n",
       "      <th>hashtags</th>\n",
       "      <th>source</th>\n",
       "    </tr>\n",
       "  </thead>\n",
       "  <tbody>\n",
       "    <tr>\n",
       "      <th>0</th>\n",
       "      <td>Bohmle</td>\n",
       "      <td>#GPT4 for FREE. \n",
       "No its not a clickbait, @Qola...</td>\n",
       "      <td>Carkingga</td>\n",
       "      <td>&lt;NA&gt;</td>\n",
       "      <td>&lt;NA&gt;</td>\n",
       "      <td>&lt;NA&gt;</td>\n",
       "      <td>&lt;NA&gt;</td>\n",
       "      <td>&lt;NA&gt;</td>\n",
       "      <td>&lt;NA&gt;</td>\n",
       "      <td>&lt;NA&gt;</td>\n",
       "      <td>&lt;NA&gt;</td>\n",
       "      <td>&lt;NA&gt;</td>\n",
       "    </tr>\n",
       "    <tr>\n",
       "      <th>1</th>\n",
       "      <td>&lt;NA&gt;</td>\n",
       "      <td>AI enthusiast</td>\n",
       "      <td>2019-07-03 03:44:41+00:00</td>\n",
       "      <td>60.0</td>\n",
       "      <td>349.0</td>\n",
       "      <td>611</td>\n",
       "      <td>False</td>\n",
       "      <td>2023-05-17 18:11:12+00:00</td>\n",
       "      <td>['GPT4', 'ChatGPT4']</td>\n",
       "      <td>Twitter Web App</td>\n",
       "      <td>&lt;NA&gt;</td>\n",
       "      <td>&lt;NA&gt;</td>\n",
       "    </tr>\n",
       "    <tr>\n",
       "      <th>2</th>\n",
       "      <td>Dan Bruno AI</td>\n",
       "      <td>ChatGPT Thinks These 5 Crypto Coins Will Explo...</td>\n",
       "      <td>Manchester, NH</td>\n",
       "      <td>The latest in #ChatGPT, #BARD, #Bing, and othe...</td>\n",
       "      <td>2021-05-19 01:19:32+00:00</td>\n",
       "      <td>470.0</td>\n",
       "      <td>157.0</td>\n",
       "      <td>5185</td>\n",
       "      <td>False</td>\n",
       "      <td>2023-05-17 18:11:03+00:00</td>\n",
       "      <td>['chatgpt', 'AI', 'openAI']</td>\n",
       "      <td>dlvr.it</td>\n",
       "    </tr>\n",
       "    <tr>\n",
       "      <th>3</th>\n",
       "      <td>Georgiana Comsa</td>\n",
       "      <td>New: @JWVance's post about 5 #startups (includ...</td>\n",
       "      <td>Palo Alto</td>\n",
       "      <td>Founder of Silicon Valley PR, award-winning PR...</td>\n",
       "      <td>2008-12-24 09:32:23+00:00</td>\n",
       "      <td>3864.0</td>\n",
       "      <td>1883.0</td>\n",
       "      <td>2415</td>\n",
       "      <td>False</td>\n",
       "      <td>2023-05-17 18:10:25+00:00</td>\n",
       "      <td>['startups', 'startup50']</td>\n",
       "      <td>Twitter Web App</td>\n",
       "    </tr>\n",
       "    <tr>\n",
       "      <th>4</th>\n",
       "      <td>Bitone Great</td>\n",
       "      <td>🚨Get Out!🚨\n",
       "💰#Binance Spot💰\n",
       "⬇ Recommendation: #...</td>\n",
       "      <td>Hong Kong</td>\n",
       "      <td>#ChatGPT (AI) powered Free Trading Signal! \n",
       "Le...</td>\n",
       "      <td>2022-11-21 04:42:18+00:00</td>\n",
       "      <td>1517.0</td>\n",
       "      <td>506.0</td>\n",
       "      <td>64</td>\n",
       "      <td>False</td>\n",
       "      <td>2023-05-17 18:09:39+00:00</td>\n",
       "      <td>['Binance', 'Short', 'GHSTUSDT']</td>\n",
       "      <td>rsi1</td>\n",
       "    </tr>\n",
       "    <tr>\n",
       "      <th>...</th>\n",
       "      <td>...</td>\n",
       "      <td>...</td>\n",
       "      <td>...</td>\n",
       "      <td>...</td>\n",
       "      <td>...</td>\n",
       "      <td>...</td>\n",
       "      <td>...</td>\n",
       "      <td>...</td>\n",
       "      <td>...</td>\n",
       "      <td>...</td>\n",
       "      <td>...</td>\n",
       "      <td>...</td>\n",
       "    </tr>\n",
       "    <tr>\n",
       "      <th>495</th>\n",
       "      <td>O'Dwyer's PR News</td>\n",
       "      <td>#ChatGPT set off an endless stream of fear and...</td>\n",
       "      <td>New York, NY</td>\n",
       "      <td>The #1 news outlet for public relations, publi...</td>\n",
       "      <td>2009-02-25 15:50:27+00:00</td>\n",
       "      <td>15013.0</td>\n",
       "      <td>2876.0</td>\n",
       "      <td>1</td>\n",
       "      <td>False</td>\n",
       "      <td>2023-05-17 16:00:37+00:00</td>\n",
       "      <td>['ChatGPT']</td>\n",
       "      <td>Twitter Web App</td>\n",
       "    </tr>\n",
       "    <tr>\n",
       "      <th>496</th>\n",
       "      <td>Tracy Krauss, #author #artist #playwright</td>\n",
       "      <td>ChatGPT is a hot topic; there is no doubt. It ...</td>\n",
       "      <td>British Columbia, Canada</td>\n",
       "      <td>I write modern Christian romance with a twist ...</td>\n",
       "      <td>2010-06-19 04:45:43+00:00</td>\n",
       "      <td>2718.0</td>\n",
       "      <td>1803.0</td>\n",
       "      <td>348</td>\n",
       "      <td>False</td>\n",
       "      <td>2023-05-17 16:00:37+00:00</td>\n",
       "      <td>&lt;NA&gt;</td>\n",
       "      <td>Hootsuite Inc.</td>\n",
       "    </tr>\n",
       "    <tr>\n",
       "      <th>497</th>\n",
       "      <td>Tom Solid</td>\n",
       "      <td>Exciting news! #chatGPT has launched its Plugi...</td>\n",
       "      <td>Germany</td>\n",
       "      <td>🚀✨ We help you to build your productivity syst...</td>\n",
       "      <td>2010-12-04 11:00:53+00:00</td>\n",
       "      <td>3460.0</td>\n",
       "      <td>332.0</td>\n",
       "      <td>4464</td>\n",
       "      <td>False</td>\n",
       "      <td>2023-05-17 16:00:30+00:00</td>\n",
       "      <td>['chatGPT']</td>\n",
       "      <td>Hootsuite Inc.</td>\n",
       "    </tr>\n",
       "    <tr>\n",
       "      <th>498</th>\n",
       "      <td>Tweeting Monk</td>\n",
       "      <td>@Oncrawl Agreed! The #ChatGPT is definitely th...</td>\n",
       "      <td>GET 30% OFF FOR 3 MONTHS</td>\n",
       "      <td>Set your Twitter account on auto-pilot and wat...</td>\n",
       "      <td>2022-03-30 10:35:13+00:00</td>\n",
       "      <td>50.0</td>\n",
       "      <td>111.0</td>\n",
       "      <td>64</td>\n",
       "      <td>False</td>\n",
       "      <td>2023-05-17 16:00:28+00:00</td>\n",
       "      <td>['ChatGPT']</td>\n",
       "      <td>TweetingMonk</td>\n",
       "    </tr>\n",
       "    <tr>\n",
       "      <th>499</th>\n",
       "      <td>ManTFupTV</td>\n",
       "      <td>Do you agree whatever is put on the internet d...</td>\n",
       "      <td>Fort Lauderdale, FL</td>\n",
       "      <td>ManTFUp Podcast 🎙\n",
       "Listen to Season 2 NOW! 🔥\n",
       "🏎 ...</td>\n",
       "      <td>2021-11-09 15:26:21+00:00</td>\n",
       "      <td>343.0</td>\n",
       "      <td>12.0</td>\n",
       "      <td>27</td>\n",
       "      <td>False</td>\n",
       "      <td>2023-05-17 16:00:26+00:00</td>\n",
       "      <td>&lt;NA&gt;</td>\n",
       "      <td>Buffer</td>\n",
       "    </tr>\n",
       "  </tbody>\n",
       "</table>\n",
       "<p>500 rows × 12 columns</p>\n",
       "</div>"
      ],
      "text/plain": [
       "                                     user_name  \\\n",
       "0                                       Bohmle   \n",
       "1                                         <NA>   \n",
       "2                                 Dan Bruno AI   \n",
       "3                              Georgiana Comsa   \n",
       "4                                 Bitone Great   \n",
       "..                                         ...   \n",
       "495                          O'Dwyer's PR News   \n",
       "496  Tracy Krauss, #author #artist #playwright   \n",
       "497                                  Tom Solid   \n",
       "498                              Tweeting Monk   \n",
       "499                                  ManTFupTV   \n",
       "\n",
       "                                                  text  \\\n",
       "0    #GPT4 for FREE. \n",
       "No its not a clickbait, @Qola...   \n",
       "1                                        AI enthusiast   \n",
       "2    ChatGPT Thinks These 5 Crypto Coins Will Explo...   \n",
       "3    New: @JWVance's post about 5 #startups (includ...   \n",
       "4    🚨Get Out!🚨\n",
       "💰#Binance Spot💰\n",
       "⬇ Recommendation: #...   \n",
       "..                                                 ...   \n",
       "495  #ChatGPT set off an endless stream of fear and...   \n",
       "496  ChatGPT is a hot topic; there is no doubt. It ...   \n",
       "497  Exciting news! #chatGPT has launched its Plugi...   \n",
       "498  @Oncrawl Agreed! The #ChatGPT is definitely th...   \n",
       "499  Do you agree whatever is put on the internet d...   \n",
       "\n",
       "                 user_location  \\\n",
       "0                    Carkingga   \n",
       "1    2019-07-03 03:44:41+00:00   \n",
       "2               Manchester, NH   \n",
       "3                    Palo Alto   \n",
       "4                    Hong Kong   \n",
       "..                         ...   \n",
       "495               New York, NY   \n",
       "496   British Columbia, Canada   \n",
       "497                    Germany   \n",
       "498   GET 30% OFF FOR 3 MONTHS   \n",
       "499        Fort Lauderdale, FL   \n",
       "\n",
       "                                      user_description  \\\n",
       "0                                                 <NA>   \n",
       "1                                                 60.0   \n",
       "2    The latest in #ChatGPT, #BARD, #Bing, and othe...   \n",
       "3    Founder of Silicon Valley PR, award-winning PR...   \n",
       "4    #ChatGPT (AI) powered Free Trading Signal! \n",
       "Le...   \n",
       "..                                                 ...   \n",
       "495  The #1 news outlet for public relations, publi...   \n",
       "496  I write modern Christian romance with a twist ...   \n",
       "497  🚀✨ We help you to build your productivity syst...   \n",
       "498  Set your Twitter account on auto-pilot and wat...   \n",
       "499  ManTFUp Podcast 🎙\n",
       "Listen to Season 2 NOW! 🔥\n",
       "🏎 ...   \n",
       "\n",
       "                  user_created user_followers user_friends  \\\n",
       "0                         <NA>           <NA>         <NA>   \n",
       "1                        349.0            611        False   \n",
       "2    2021-05-19 01:19:32+00:00          470.0        157.0   \n",
       "3    2008-12-24 09:32:23+00:00         3864.0       1883.0   \n",
       "4    2022-11-21 04:42:18+00:00         1517.0        506.0   \n",
       "..                         ...            ...          ...   \n",
       "495  2009-02-25 15:50:27+00:00        15013.0       2876.0   \n",
       "496  2010-06-19 04:45:43+00:00         2718.0       1803.0   \n",
       "497  2010-12-04 11:00:53+00:00         3460.0        332.0   \n",
       "498  2022-03-30 10:35:13+00:00           50.0        111.0   \n",
       "499  2021-11-09 15:26:21+00:00          343.0         12.0   \n",
       "\n",
       "               user_favourites         user_verified  \\\n",
       "0                         <NA>                  <NA>   \n",
       "1    2023-05-17 18:11:12+00:00  ['GPT4', 'ChatGPT4']   \n",
       "2                         5185                 False   \n",
       "3                         2415                 False   \n",
       "4                           64                 False   \n",
       "..                         ...                   ...   \n",
       "495                          1                 False   \n",
       "496                        348                 False   \n",
       "497                       4464                 False   \n",
       "498                         64                 False   \n",
       "499                         27                 False   \n",
       "\n",
       "                          date                          hashtags  \\\n",
       "0                         <NA>                              <NA>   \n",
       "1              Twitter Web App                              <NA>   \n",
       "2    2023-05-17 18:11:03+00:00       ['chatgpt', 'AI', 'openAI']   \n",
       "3    2023-05-17 18:10:25+00:00         ['startups', 'startup50']   \n",
       "4    2023-05-17 18:09:39+00:00  ['Binance', 'Short', 'GHSTUSDT']   \n",
       "..                         ...                               ...   \n",
       "495  2023-05-17 16:00:37+00:00                       ['ChatGPT']   \n",
       "496  2023-05-17 16:00:37+00:00                              <NA>   \n",
       "497  2023-05-17 16:00:30+00:00                       ['chatGPT']   \n",
       "498  2023-05-17 16:00:28+00:00                       ['ChatGPT']   \n",
       "499  2023-05-17 16:00:26+00:00                              <NA>   \n",
       "\n",
       "              source  \n",
       "0               <NA>  \n",
       "1               <NA>  \n",
       "2            dlvr.it  \n",
       "3    Twitter Web App  \n",
       "4               rsi1  \n",
       "..               ...  \n",
       "495  Twitter Web App  \n",
       "496   Hootsuite Inc.  \n",
       "497   Hootsuite Inc.  \n",
       "498     TweetingMonk  \n",
       "499           Buffer  \n",
       "\n",
       "[500 rows x 12 columns]"
      ]
     },
     "execution_count": 206,
     "metadata": {},
     "output_type": "execute_result"
    }
   ],
   "source": [
    "tweets_data"
   ]
  },
  {
   "cell_type": "code",
   "execution_count": 207,
   "id": "ff4fb01d",
   "metadata": {},
   "outputs": [],
   "source": [
    "tweets_data = tweets_data.drop_duplicates(subset = [\"text\"])\n",
    "tweets_data = tweets_data.dropna(subset = [\"text\"])"
   ]
  },
  {
   "cell_type": "code",
   "execution_count": 33,
   "id": "0272026a",
   "metadata": {},
   "outputs": [],
   "source": [
    "def convert_to_text(dataframe):\n",
    "    text = \"\"\n",
    "    for i in dataframe['text']:\n",
    "        text = text+i\n",
    "    return text"
   ]
  },
  {
   "cell_type": "code",
   "execution_count": 34,
   "id": "05798275",
   "metadata": {},
   "outputs": [],
   "source": [
    "text = convert_to_text(tweets_data)"
   ]
  },
  {
   "cell_type": "code",
   "execution_count": 66,
   "id": "843a1079",
   "metadata": {},
   "outputs": [],
   "source": [
    "def remove_links(text):\n",
    "    result = re.sub(r'http\\S+', '', text, flags=re.MULTILINE)\n",
    "    return text"
   ]
  },
  {
   "cell_type": "code",
   "execution_count": 67,
   "id": "c1cbd8e9",
   "metadata": {},
   "outputs": [],
   "source": [
    "text = remove_links(text)"
   ]
  },
  {
   "cell_type": "code",
   "execution_count": 68,
   "id": "02df9b9e",
   "metadata": {},
   "outputs": [],
   "source": [
    "def remove_specialwords(text):\n",
    "    filteredText=re.sub('[^A-Za-z0-9.]+', ' ',text)\n",
    "    return filteredText"
   ]
  },
  {
   "cell_type": "code",
   "execution_count": 69,
   "id": "61bde9c8",
   "metadata": {},
   "outputs": [],
   "source": [
    "text = remove_specialwords(text)"
   ]
  },
  {
   "cell_type": "code",
   "execution_count": 43,
   "id": "bf43d901",
   "metadata": {},
   "outputs": [],
   "source": [
    "def word_tokenizer(text):\n",
    "    tokens = word_tokenize(text)\n",
    "    return tokens"
   ]
  },
  {
   "cell_type": "code",
   "execution_count": 44,
   "id": "59392a44",
   "metadata": {},
   "outputs": [],
   "source": [
    "tokens = word_tokenize(text)"
   ]
  },
  {
   "cell_type": "code",
   "execution_count": 52,
   "id": "0232fd2b",
   "metadata": {},
   "outputs": [],
   "source": [
    "def remove_punct(token):\n",
    "     return [word for word in token if word.isalpha()]"
   ]
  },
  {
   "cell_type": "code",
   "execution_count": 53,
   "id": "c8e0ff94",
   "metadata": {},
   "outputs": [],
   "source": [
    "tokens = remove_punct(tokens)"
   ]
  },
  {
   "cell_type": "code",
   "execution_count": 56,
   "id": "79acee6f",
   "metadata": {},
   "outputs": [],
   "source": [
    "def remove_stopwords(tokens):\n",
    "    stop_words = set(stopwords.words('english'))\n",
    "    filtered_tokens = [w for w in tokens if not w.lower() in stop_words]\n",
    "    return filtered_tokens"
   ]
  },
  {
   "cell_type": "code",
   "execution_count": 57,
   "id": "01271d43",
   "metadata": {},
   "outputs": [],
   "source": [
    "tokens = remove_stopwords(tokens)"
   ]
  },
  {
   "cell_type": "code",
   "execution_count": 60,
   "id": "b29b9da1",
   "metadata": {},
   "outputs": [],
   "source": [
    "def stemming(tokens):\n",
    "    ps = PorterStemmer()\n",
    "    stemmed_tokens = [ps.stem(words_sent) for words_sent in tokens]\n",
    "    return stemmed_tokens"
   ]
  },
  {
   "cell_type": "code",
   "execution_count": 61,
   "id": "97179d0a",
   "metadata": {},
   "outputs": [],
   "source": [
    "tokens = stemming(tokens)"
   ]
  },
  {
   "cell_type": "code",
   "execution_count": 64,
   "id": "3b139762",
   "metadata": {},
   "outputs": [],
   "source": [
    "def lemmetization(tokens):\n",
    "    lemmatizer = WordNetLemmatizer()\n",
    "    lem_sent = [lemmatizer.lemmatize(words_sent) for words_sent in tokens]\n",
    "    return lem_sent"
   ]
  },
  {
   "cell_type": "code",
   "execution_count": 65,
   "id": "8f465bcd",
   "metadata": {},
   "outputs": [],
   "source": [
    "tokens = lemmetization(tokens)"
   ]
  },
  {
   "cell_type": "code",
   "execution_count": 79,
   "id": "72cfcb75",
   "metadata": {},
   "outputs": [],
   "source": [
    "def bigrams(tokens):\n",
    "    bi_grams = ngrams(tokens , 2)\n",
    "    return list(bi_grams)"
   ]
  },
  {
   "cell_type": "code",
   "execution_count": 81,
   "id": "81529558",
   "metadata": {},
   "outputs": [],
   "source": [
    "def trigrams(tokens):\n",
    "    tri_grams = ngrams(tokens , 3)\n",
    "    return list(tri_grams)"
   ]
  },
  {
   "cell_type": "code",
   "execution_count": 82,
   "id": "3110ea28",
   "metadata": {},
   "outputs": [],
   "source": [
    "bi_grams = bigrams(tokens)"
   ]
  },
  {
   "cell_type": "code",
   "execution_count": 83,
   "id": "6f05cc1b",
   "metadata": {},
   "outputs": [],
   "source": [
    "tri_grams = trigrams(tokens)"
   ]
  },
  {
   "cell_type": "code",
   "execution_count": 107,
   "id": "92a25d7c",
   "metadata": {},
   "outputs": [],
   "source": [
    "def bigrams_analysis(bi_grams):\n",
    "    count_bigrams = FreqDist(bi_grams)\n",
    "    dic_bigrams = dict(Counter(count_bigrams))\n",
    "    return dic_bigrams  "
   ]
  },
  {
   "cell_type": "code",
   "execution_count": 108,
   "id": "8ccfec9a",
   "metadata": {},
   "outputs": [],
   "source": [
    "def trigrams_analysis(tri_grams):\n",
    "    count_trigrams = FreqDist(tri_grams)\n",
    "    return dic_trigrams"
   ]
  },
  {
   "cell_type": "code",
   "execution_count": 111,
   "id": "5e26c26a",
   "metadata": {},
   "outputs": [],
   "source": [
    "bigrams_count = bigrams_analysis(bi_grams)\n",
    "trigrams_count = trigrams_analysis(tri_grams)"
   ]
  },
  {
   "cell_type": "code",
   "execution_count": 161,
   "id": "d6a6bdb2",
   "metadata": {},
   "outputs": [],
   "source": [
    "def bigrams_analysis(bigrams):\n",
    "    n = len(bigrams)\n",
    "    bigrams_list = list(bigrams.items())\n",
    "    swapped = False\n",
    "    for i in range(n-1):\n",
    "        for j in range(0, n-i-1):\n",
    "            if bigrams_list[j][1] < bigrams_list[j + 1][1]:\n",
    "                swapped = True\n",
    "                bigrams_list[j], bigrams_list[j+1] = bigrams_list[j+1] , bigrams_list[j]         \n",
    "        if not swapped:\n",
    "            return\n",
    "    common_bigrams = []\n",
    "    common_bigrams_count = []\n",
    "    for i in range(10):\n",
    "        common_bigrams.append(str(bigrams_list[i][0]))\n",
    "        common_bigrams_count.append(bigrams_list[i][1])\n",
    "    \n",
    "    plt.bar(common_bigrams, common_bigrams_count, color = \"blue\" , width = 0.5)"
   ]
  },
  {
   "cell_type": "code",
   "execution_count": 163,
   "id": "b530edfd",
   "metadata": {},
   "outputs": [],
   "source": [
    "def trigrams_analysis(trigrams):\n",
    "    n = len(trigrams)\n",
    "    trigrams_list = list(trigrams.items())\n",
    "    swapped = False\n",
    "    for i in range(n-1):\n",
    "        for j in range(0, n-i-1):\n",
    "            if trigrams_list[j][1] < trigrams_list[j + 1][1]:\n",
    "                swapped = True\n",
    "                trigrams_list[j], trigrams_list[j+1] = trigrams_list[j+1] , trigrams_list[j]         \n",
    "        if not swapped:\n",
    "            return\n",
    "    common_trigrams = []\n",
    "    common_trigrams_count = []\n",
    "    for i in range(10):\n",
    "        common_trigrams.append(str(trigrams_list[i][0]))\n",
    "        common_trigrams_count.append(trigrams_list[i][1])\n",
    "    \n",
    "    plt.bar(common_trigrams, common_trigrams_count, color = \"blue\" , width = 0.5)"
   ]
  },
  {
   "cell_type": "code",
   "execution_count": 165,
   "id": "c8469624",
   "metadata": {},
   "outputs": [
    {
     "data": {
      "image/png": "[encoded data removed]",
      "text/plain": [
       "<Figure size 640x480 with 1 Axes>"
      ]
     },
     "metadata": {},
     "output_type": "display_data"
    }
   ],
   "source": [
    "bigrams_analysis(bigrams_count)"
   ]
  },
  {
   "cell_type": "code",
   "execution_count": 166,
   "id": "7f8ec53b",
   "metadata": {},
   "outputs": [
    {
     "data": {
      "image/png": "[encoded data removed]",
      "text/plain": [
       "<Figure size 640x480 with 1 Axes>"
      ]
     },
     "metadata": {},
     "output_type": "display_data"
    }
   ],
   "source": [
    "trigrams_analysis(trigrams_count)"
   ]
  },
  {
   "cell_type": "code",
   "execution_count": 167,
   "id": "4b49a68a",
   "metadata": {},
   "outputs": [],
   "source": [
    "def word_cloud(final_text):\n",
    "    final_words=\" \".join(str(x) for x in final_text)\n",
    "    wc = WordCloud(background_color=\"white\",max_words=200,width=800, height=400).generate(final_words)\n",
    "    plt.imshow(wc, interpolation='bilinear')\n",
    "    plt.axis(\"off\")\n",
    "    plt.show()"
   ]
  },
  {
   "cell_type": "code",
   "execution_count": 168,
   "id": "4c91b372",
   "metadata": {},
   "outputs": [
    {
     "data": {
      "image/png": "[encoded data removed]",
      "text/plain": [
       "<Figure size 640x480 with 1 Axes>"
      ]
     },
     "metadata": {},
     "output_type": "display_data"
    }
   ],
   "source": [
    "word_cloud(text)"
   ]
  },
  {
   "cell_type": "code",
   "execution_count": 171,
   "id": "2865ebf1",
   "metadata": {},
   "outputs": [
    {
     "name": "stdout",
     "output_type": "stream",
     "text": [
      "Requirement already satisfied: scipy in /opt/anaconda3/lib/python3.9/site-packages (1.9.1)\r\n",
      "Requirement already satisfied: numpy<1.25.0,>=1.18.5 in /opt/anaconda3/lib/python3.9/site-packages (from scipy) (1.24.1)\r\n"
     ]
    }
   ],
   "source": [
    "!pip3 install scipy"
   ]
  },
  {
   "cell_type": "code",
   "execution_count": 173,
   "id": "e3f15cf4",
   "metadata": {},
   "outputs": [
    {
     "data": {
      "application/vnd.jupyter.widget-view+json": {
       "model_id": "ece85d47fec242a2930ec8b1a27bf7e2",
       "version_major": 2,
       "version_minor": 0
      },
      "text/plain": [
       "Downloading:   0%|          | 0.00/747 [00:00<?, ?B/s]"
      ]
     },
     "metadata": {},
     "output_type": "display_data"
    },
    {
     "data": {
      "application/vnd.jupyter.widget-view+json": {
       "model_id": "519e9b1ceca2417f8c9fd92d04ad5259",
       "version_major": 2,
       "version_minor": 0
      },
      "text/plain": [
       "Downloading:   0%|          | 0.00/499M [00:00<?, ?B/s]"
      ]
     },
     "metadata": {},
     "output_type": "display_data"
    },
    {
     "data": {
      "application/vnd.jupyter.widget-view+json": {
       "model_id": "53873787c3d44ddcbd7f42bd6219f3b3",
       "version_major": 2,
       "version_minor": 0
      },
      "text/plain": [
       "Downloading:   0%|          | 0.00/899k [00:00<?, ?B/s]"
      ]
     },
     "metadata": {},
     "output_type": "display_data"
    },
    {
     "data": {
      "application/vnd.jupyter.widget-view+json": {
       "model_id": "6dc66a577dfb4f07a5222fad7b929124",
       "version_major": 2,
       "version_minor": 0
      },
      "text/plain": [
       "Downloading:   0%|          | 0.00/456k [00:00<?, ?B/s]"
      ]
     },
     "metadata": {},
     "output_type": "display_data"
    },
    {
     "data": {
      "application/vnd.jupyter.widget-view+json": {
       "model_id": "fa51d2244f0c44af96287471ed20c8f5",
       "version_major": 2,
       "version_minor": 0
      },
      "text/plain": [
       "Downloading:   0%|          | 0.00/150 [00:00<?, ?B/s]"
      ]
     },
     "metadata": {},
     "output_type": "display_data"
    }
   ],
   "source": [
    "roberta = \"cardiffnlp/twitter-roberta-base-sentiment\"\n",
    "\n",
    "model = AutoModelForSequenceClassification.from_pretrained(roberta)\n",
    "tokenizer = AutoTokenizer.from_pretrained(roberta)\n",
    "\n",
    "labels = ['Negative', 'Neutral', 'Positive']"
   ]
  },
  {
   "cell_type": "code",
   "execution_count": 195,
   "id": "f06abcaf",
   "metadata": {},
   "outputs": [],
   "source": [
    "sentiments_roberta = []\n",
    "for i in tweets_data[\"text\"]:\n",
    "    tweet = i\n",
    "    tweet = remove_links(tweet)\n",
    "    tweet = remove_specialwords(tweet)\n",
    "    encoded_tweet = tokenizer(tweet, return_tensors='pt')\n",
    "    output = model(**encoded_tweet)\n",
    "    scores = output[0][0].detach().numpy()\n",
    "    scores = softmax(scores)\n",
    "    negative = scores[0]\n",
    "    positive = scores[1]\n",
    "    neutral = scores[2]\n",
    "    label = \"\"\n",
    "    if negative > positive and negative > neutral:\n",
    "        label = \"negative\"\n",
    "    elif positive > negative and positive > neutral:\n",
    "        label = \"positive\"\n",
    "    elif neutral > positive and neutral > negative:\n",
    "        label = \"neutral\"\n",
    "    sentiments_roberta.append(label)\n",
    "    \n"
   ]
  },
  {
   "cell_type": "code",
   "execution_count": 196,
   "id": "47317f96",
   "metadata": {},
   "outputs": [],
   "source": [
    "sentiments_textblob = []\n",
    "for i in tweets_data[\"text\"]:\n",
    "    tweet = i\n",
    "    tweet = remove_links(tweet)\n",
    "    tweet = remove_specialwords(tweet)\n",
    "    analysis = TextBlob(tweet)\n",
    "    \n",
    "    if analysis.sentiment[0]>0:\n",
    "        label = \"positive\"\n",
    "    elif analysis.sentiment[0]<0:\n",
    "        label = \"negative\"\n",
    "    else:\n",
    "        label = \"neutral\"\n",
    "    sentiments_textblob.append(label)"
   ]
  },
  {
   "cell_type": "code",
   "execution_count": 202,
   "id": "b8a64d4e",
   "metadata": {},
   "outputs": [],
   "source": [
    "final_sentiments = []\n",
    "for i in range(len(sentiments_roberta)):\n",
    "    if sentiments_roberta[i] == sentiments_textblob[i]:\n",
    "        final_sentiments.append(sentiments_textblob[i])\n",
    "    else:\n",
    "        final_sentiments.append(sentiments_roberta[i])\n",
    "    "
   ]
  },
  {
   "cell_type": "code",
   "execution_count": 208,
   "id": "2af26921",
   "metadata": {},
   "outputs": [],
   "source": [
    "tweets_data.insert(12, \"Sentiment\" , final_sentiments ,True)"
   ]
  },
  {
   "cell_type": "code",
   "execution_count": 209,
   "id": "3be419bc",
   "metadata": {},
   "outputs": [
    {
     "data": {
      "text/html": [
       "<div>\n",
       "<style scoped>\n",
       "    .dataframe tbody tr th:only-of-type {\n",
       "        vertical-align: middle;\n",
       "    }\n",
       "\n",
       "    .dataframe tbody tr th {\n",
       "        vertical-align: top;\n",
       "    }\n",
       "\n",
       "    .dataframe thead th {\n",
       "        text-align: right;\n",
       "    }\n",
       "</style>\n",
       "<table border=\"1\" class=\"dataframe\">\n",
       "  <thead>\n",
       "    <tr style=\"text-align: right;\">\n",
       "      <th></th>\n",
       "      <th>user_name</th>\n",
       "      <th>text</th>\n",
       "      <th>user_location</th>\n",
       "      <th>user_description</th>\n",
       "      <th>user_created</th>\n",
       "      <th>user_followers</th>\n",
       "      <th>user_friends</th>\n",
       "      <th>user_favourites</th>\n",
       "      <th>user_verified</th>\n",
       "      <th>date</th>\n",
       "      <th>hashtags</th>\n",
       "      <th>source</th>\n",
       "      <th>Sentiment</th>\n",
       "    </tr>\n",
       "  </thead>\n",
       "  <tbody>\n",
       "    <tr>\n",
       "      <th>0</th>\n",
       "      <td>Bohmle</td>\n",
       "      <td>#GPT4 for FREE. \n",
       "No its not a clickbait, @Qola...</td>\n",
       "      <td>Carkingga</td>\n",
       "      <td>&lt;NA&gt;</td>\n",
       "      <td>&lt;NA&gt;</td>\n",
       "      <td>&lt;NA&gt;</td>\n",
       "      <td>&lt;NA&gt;</td>\n",
       "      <td>&lt;NA&gt;</td>\n",
       "      <td>&lt;NA&gt;</td>\n",
       "      <td>&lt;NA&gt;</td>\n",
       "      <td>&lt;NA&gt;</td>\n",
       "      <td>&lt;NA&gt;</td>\n",
       "      <td>neutral</td>\n",
       "    </tr>\n",
       "    <tr>\n",
       "      <th>1</th>\n",
       "      <td>&lt;NA&gt;</td>\n",
       "      <td>AI enthusiast</td>\n",
       "      <td>2019-07-03 03:44:41+00:00</td>\n",
       "      <td>60.0</td>\n",
       "      <td>349.0</td>\n",
       "      <td>611</td>\n",
       "      <td>False</td>\n",
       "      <td>2023-05-17 18:11:12+00:00</td>\n",
       "      <td>['GPT4', 'ChatGPT4']</td>\n",
       "      <td>Twitter Web App</td>\n",
       "      <td>&lt;NA&gt;</td>\n",
       "      <td>&lt;NA&gt;</td>\n",
       "      <td>positive</td>\n",
       "    </tr>\n",
       "    <tr>\n",
       "      <th>2</th>\n",
       "      <td>Dan Bruno AI</td>\n",
       "      <td>ChatGPT Thinks These 5 Crypto Coins Will Explo...</td>\n",
       "      <td>Manchester, NH</td>\n",
       "      <td>The latest in #ChatGPT, #BARD, #Bing, and othe...</td>\n",
       "      <td>2021-05-19 01:19:32+00:00</td>\n",
       "      <td>470.0</td>\n",
       "      <td>157.0</td>\n",
       "      <td>5185</td>\n",
       "      <td>False</td>\n",
       "      <td>2023-05-17 18:11:03+00:00</td>\n",
       "      <td>['chatgpt', 'AI', 'openAI']</td>\n",
       "      <td>dlvr.it</td>\n",
       "      <td>neutral</td>\n",
       "    </tr>\n",
       "    <tr>\n",
       "      <th>3</th>\n",
       "      <td>Georgiana Comsa</td>\n",
       "      <td>New: @JWVance's post about 5 #startups (includ...</td>\n",
       "      <td>Palo Alto</td>\n",
       "      <td>Founder of Silicon Valley PR, award-winning PR...</td>\n",
       "      <td>2008-12-24 09:32:23+00:00</td>\n",
       "      <td>3864.0</td>\n",
       "      <td>1883.0</td>\n",
       "      <td>2415</td>\n",
       "      <td>False</td>\n",
       "      <td>2023-05-17 18:10:25+00:00</td>\n",
       "      <td>['startups', 'startup50']</td>\n",
       "      <td>Twitter Web App</td>\n",
       "      <td>neutral</td>\n",
       "    </tr>\n",
       "    <tr>\n",
       "      <th>4</th>\n",
       "      <td>Bitone Great</td>\n",
       "      <td>🚨Get Out!🚨\n",
       "💰#Binance Spot💰\n",
       "⬇ Recommendation: #...</td>\n",
       "      <td>Hong Kong</td>\n",
       "      <td>#ChatGPT (AI) powered Free Trading Signal! \n",
       "Le...</td>\n",
       "      <td>2022-11-21 04:42:18+00:00</td>\n",
       "      <td>1517.0</td>\n",
       "      <td>506.0</td>\n",
       "      <td>64</td>\n",
       "      <td>False</td>\n",
       "      <td>2023-05-17 18:09:39+00:00</td>\n",
       "      <td>['Binance', 'Short', 'GHSTUSDT']</td>\n",
       "      <td>rsi1</td>\n",
       "      <td>positive</td>\n",
       "    </tr>\n",
       "    <tr>\n",
       "      <th>...</th>\n",
       "      <td>...</td>\n",
       "      <td>...</td>\n",
       "      <td>...</td>\n",
       "      <td>...</td>\n",
       "      <td>...</td>\n",
       "      <td>...</td>\n",
       "      <td>...</td>\n",
       "      <td>...</td>\n",
       "      <td>...</td>\n",
       "      <td>...</td>\n",
       "      <td>...</td>\n",
       "      <td>...</td>\n",
       "      <td>...</td>\n",
       "    </tr>\n",
       "    <tr>\n",
       "      <th>495</th>\n",
       "      <td>O'Dwyer's PR News</td>\n",
       "      <td>#ChatGPT set off an endless stream of fear and...</td>\n",
       "      <td>New York, NY</td>\n",
       "      <td>The #1 news outlet for public relations, publi...</td>\n",
       "      <td>2009-02-25 15:50:27+00:00</td>\n",
       "      <td>15013.0</td>\n",
       "      <td>2876.0</td>\n",
       "      <td>1</td>\n",
       "      <td>False</td>\n",
       "      <td>2023-05-17 16:00:37+00:00</td>\n",
       "      <td>['ChatGPT']</td>\n",
       "      <td>Twitter Web App</td>\n",
       "      <td>negative</td>\n",
       "    </tr>\n",
       "    <tr>\n",
       "      <th>496</th>\n",
       "      <td>Tracy Krauss, #author #artist #playwright</td>\n",
       "      <td>ChatGPT is a hot topic; there is no doubt. It ...</td>\n",
       "      <td>British Columbia, Canada</td>\n",
       "      <td>I write modern Christian romance with a twist ...</td>\n",
       "      <td>2010-06-19 04:45:43+00:00</td>\n",
       "      <td>2718.0</td>\n",
       "      <td>1803.0</td>\n",
       "      <td>348</td>\n",
       "      <td>False</td>\n",
       "      <td>2023-05-17 16:00:37+00:00</td>\n",
       "      <td>&lt;NA&gt;</td>\n",
       "      <td>Hootsuite Inc.</td>\n",
       "      <td>neutral</td>\n",
       "    </tr>\n",
       "    <tr>\n",
       "      <th>497</th>\n",
       "      <td>Tom Solid</td>\n",
       "      <td>Exciting news! #chatGPT has launched its Plugi...</td>\n",
       "      <td>Germany</td>\n",
       "      <td>🚀✨ We help you to build your productivity syst...</td>\n",
       "      <td>2010-12-04 11:00:53+00:00</td>\n",
       "      <td>3460.0</td>\n",
       "      <td>332.0</td>\n",
       "      <td>4464</td>\n",
       "      <td>False</td>\n",
       "      <td>2023-05-17 16:00:30+00:00</td>\n",
       "      <td>['chatGPT']</td>\n",
       "      <td>Hootsuite Inc.</td>\n",
       "      <td>neutral</td>\n",
       "    </tr>\n",
       "    <tr>\n",
       "      <th>498</th>\n",
       "      <td>Tweeting Monk</td>\n",
       "      <td>@Oncrawl Agreed! The #ChatGPT is definitely th...</td>\n",
       "      <td>GET 30% OFF FOR 3 MONTHS</td>\n",
       "      <td>Set your Twitter account on auto-pilot and wat...</td>\n",
       "      <td>2022-03-30 10:35:13+00:00</td>\n",
       "      <td>50.0</td>\n",
       "      <td>111.0</td>\n",
       "      <td>64</td>\n",
       "      <td>False</td>\n",
       "      <td>2023-05-17 16:00:28+00:00</td>\n",
       "      <td>['ChatGPT']</td>\n",
       "      <td>TweetingMonk</td>\n",
       "      <td>neutral</td>\n",
       "    </tr>\n",
       "    <tr>\n",
       "      <th>499</th>\n",
       "      <td>ManTFupTV</td>\n",
       "      <td>Do you agree whatever is put on the internet d...</td>\n",
       "      <td>Fort Lauderdale, FL</td>\n",
       "      <td>ManTFUp Podcast 🎙\n",
       "Listen to Season 2 NOW! 🔥\n",
       "🏎 ...</td>\n",
       "      <td>2021-11-09 15:26:21+00:00</td>\n",
       "      <td>343.0</td>\n",
       "      <td>12.0</td>\n",
       "      <td>27</td>\n",
       "      <td>False</td>\n",
       "      <td>2023-05-17 16:00:26+00:00</td>\n",
       "      <td>&lt;NA&gt;</td>\n",
       "      <td>Buffer</td>\n",
       "      <td>positive</td>\n",
       "    </tr>\n",
       "  </tbody>\n",
       "</table>\n",
       "<p>496 rows × 13 columns</p>\n",
       "</div>"
      ],
      "text/plain": [
       "                                     user_name  \\\n",
       "0                                       Bohmle   \n",
       "1                                         <NA>   \n",
       "2                                 Dan Bruno AI   \n",
       "3                              Georgiana Comsa   \n",
       "4                                 Bitone Great   \n",
       "..                                         ...   \n",
       "495                          O'Dwyer's PR News   \n",
       "496  Tracy Krauss, #author #artist #playwright   \n",
       "497                                  Tom Solid   \n",
       "498                              Tweeting Monk   \n",
       "499                                  ManTFupTV   \n",
       "\n",
       "                                                  text  \\\n",
       "0    #GPT4 for FREE. \n",
       "No its not a clickbait, @Qola...   \n",
       "1                                        AI enthusiast   \n",
       "2    ChatGPT Thinks These 5 Crypto Coins Will Explo...   \n",
       "3    New: @JWVance's post about 5 #startups (includ...   \n",
       "4    🚨Get Out!🚨\n",
       "💰#Binance Spot💰\n",
       "⬇ Recommendation: #...   \n",
       "..                                                 ...   \n",
       "495  #ChatGPT set off an endless stream of fear and...   \n",
       "496  ChatGPT is a hot topic; there is no doubt. It ...   \n",
       "497  Exciting news! #chatGPT has launched its Plugi...   \n",
       "498  @Oncrawl Agreed! The #ChatGPT is definitely th...   \n",
       "499  Do you agree whatever is put on the internet d...   \n",
       "\n",
       "                 user_location  \\\n",
       "0                    Carkingga   \n",
       "1    2019-07-03 03:44:41+00:00   \n",
       "2               Manchester, NH   \n",
       "3                    Palo Alto   \n",
       "4                    Hong Kong   \n",
       "..                         ...   \n",
       "495               New York, NY   \n",
       "496   British Columbia, Canada   \n",
       "497                    Germany   \n",
       "498   GET 30% OFF FOR 3 MONTHS   \n",
       "499        Fort Lauderdale, FL   \n",
       "\n",
       "                                      user_description  \\\n",
       "0                                                 <NA>   \n",
       "1                                                 60.0   \n",
       "2    The latest in #ChatGPT, #BARD, #Bing, and othe...   \n",
       "3    Founder of Silicon Valley PR, award-winning PR...   \n",
       "4    #ChatGPT (AI) powered Free Trading Signal! \n",
       "Le...   \n",
       "..                                                 ...   \n",
       "495  The #1 news outlet for public relations, publi...   \n",
       "496  I write modern Christian romance with a twist ...   \n",
       "497  🚀✨ We help you to build your productivity syst...   \n",
       "498  Set your Twitter account on auto-pilot and wat...   \n",
       "499  ManTFUp Podcast 🎙\n",
       "Listen to Season 2 NOW! 🔥\n",
       "🏎 ...   \n",
       "\n",
       "                  user_created user_followers user_friends  \\\n",
       "0                         <NA>           <NA>         <NA>   \n",
       "1                        349.0            611        False   \n",
       "2    2021-05-19 01:19:32+00:00          470.0        157.0   \n",
       "3    2008-12-24 09:32:23+00:00         3864.0       1883.0   \n",
       "4    2022-11-21 04:42:18+00:00         1517.0        506.0   \n",
       "..                         ...            ...          ...   \n",
       "495  2009-02-25 15:50:27+00:00        15013.0       2876.0   \n",
       "496  2010-06-19 04:45:43+00:00         2718.0       1803.0   \n",
       "497  2010-12-04 11:00:53+00:00         3460.0        332.0   \n",
       "498  2022-03-30 10:35:13+00:00           50.0        111.0   \n",
       "499  2021-11-09 15:26:21+00:00          343.0         12.0   \n",
       "\n",
       "               user_favourites         user_verified  \\\n",
       "0                         <NA>                  <NA>   \n",
       "1    2023-05-17 18:11:12+00:00  ['GPT4', 'ChatGPT4']   \n",
       "2                         5185                 False   \n",
       "3                         2415                 False   \n",
       "4                           64                 False   \n",
       "..                         ...                   ...   \n",
       "495                          1                 False   \n",
       "496                        348                 False   \n",
       "497                       4464                 False   \n",
       "498                         64                 False   \n",
       "499                         27                 False   \n",
       "\n",
       "                          date                          hashtags  \\\n",
       "0                         <NA>                              <NA>   \n",
       "1              Twitter Web App                              <NA>   \n",
       "2    2023-05-17 18:11:03+00:00       ['chatgpt', 'AI', 'openAI']   \n",
       "3    2023-05-17 18:10:25+00:00         ['startups', 'startup50']   \n",
       "4    2023-05-17 18:09:39+00:00  ['Binance', 'Short', 'GHSTUSDT']   \n",
       "..                         ...                               ...   \n",
       "495  2023-05-17 16:00:37+00:00                       ['ChatGPT']   \n",
       "496  2023-05-17 16:00:37+00:00                              <NA>   \n",
       "497  2023-05-17 16:00:30+00:00                       ['chatGPT']   \n",
       "498  2023-05-17 16:00:28+00:00                       ['ChatGPT']   \n",
       "499  2023-05-17 16:00:26+00:00                              <NA>   \n",
       "\n",
       "              source Sentiment  \n",
       "0               <NA>   neutral  \n",
       "1               <NA>  positive  \n",
       "2            dlvr.it   neutral  \n",
       "3    Twitter Web App   neutral  \n",
       "4               rsi1  positive  \n",
       "..               ...       ...  \n",
       "495  Twitter Web App  negative  \n",
       "496   Hootsuite Inc.   neutral  \n",
       "497   Hootsuite Inc.   neutral  \n",
       "498     TweetingMonk   neutral  \n",
       "499           Buffer  positive  \n",
       "\n",
       "[496 rows x 13 columns]"
      ]
     },
     "execution_count": 209,
     "metadata": {},
     "output_type": "execute_result"
    }
   ],
   "source": [
    "tweets_data"
   ]
  },
  {
   "cell_type": "code",
   "execution_count": 211,
   "id": "cf36859a",
   "metadata": {},
   "outputs": [
    {
     "name": "stdout",
     "output_type": "stream",
     "text": [
      "The total number of words are :  8318\n"
     ]
    }
   ],
   "source": [
    "count_words = len(tokens)\n",
    "print(\"The total number of words are : \" , count_words)"
   ]
  },
  {
   "cell_type": "code",
   "execution_count": 212,
   "id": "37876cc2",
   "metadata": {},
   "outputs": [],
   "source": [
    "def check_space(string):\n",
    "    count = 0\n",
    "    for i in range(0, len(string)):\n",
    "        if string[i] == \" \":\n",
    "            count += 1\n",
    "    return count"
   ]
  },
  {
   "cell_type": "code",
   "execution_count": 213,
   "id": "c0187170",
   "metadata": {},
   "outputs": [],
   "source": [
    "count_spaces = check_space(text)"
   ]
  },
  {
   "cell_type": "code",
   "execution_count": 214,
   "id": "2f70f86e",
   "metadata": {},
   "outputs": [
    {
     "name": "stdout",
     "output_type": "stream",
     "text": [
      "The total number of spaces are :  14471\n"
     ]
    }
   ],
   "source": [
    "print(\"The total number of spaces are : \" , count_spaces)"
   ]
  },
  {
   "cell_type": "code",
   "execution_count": 215,
   "id": "83513b0f",
   "metadata": {},
   "outputs": [
    {
     "name": "stdout",
     "output_type": "stream",
     "text": [
      "The total number of characters are :  95109\n"
     ]
    }
   ],
   "source": [
    "count_characters = len(text)\n",
    "print(\"The total number of characters are : \" , count_characters)"
   ]
  },
  {
   "cell_type": "code",
   "execution_count": 219,
   "id": "37e3dbf0",
   "metadata": {},
   "outputs": [],
   "source": [
    "def verb_finder(tokens):\n",
    "    tokens_tagges = pos_tag(tokens)\n",
    "    verb_count = 0\n",
    "    for tagged_token in tokens_tagged:\n",
    "        if tagged_token[1] == 'VB' or tagged_token[1] == 'VBD' or tagged_token[1] == 'VBG' or tagged_token[1] == 'VBN' or tagged_token[1] == 'VBP' or tagged_token[1] == 'VBZ':\n",
    "            verb_count +=1\n",
    "    return verb_count"
   ]
  },
  {
   "cell_type": "code",
   "execution_count": 220,
   "id": "d66116bd",
   "metadata": {},
   "outputs": [
    {
     "name": "stdout",
     "output_type": "stream",
     "text": [
      "The total number of verbs are :  986\n"
     ]
    }
   ],
   "source": [
    "count_verbs = verb_finder(tokens)\n",
    "print(\"The total number of verbs are : \" , count_verbs)"
   ]
  },
  {
   "cell_type": "code",
   "execution_count": 230,
   "id": "0fa26a4d",
   "metadata": {},
   "outputs": [],
   "source": [
    "def starts_with_nameletter(tokens):\n",
    "    count = 0\n",
    "    for item in tokens:\n",
    "        if item.startswith(\"A\") or item.startswith(\"a\"):\n",
    "            count += 1\n",
    "    return count"
   ]
  },
  {
   "cell_type": "code",
   "execution_count": 232,
   "id": "9b924ca1",
   "metadata": {},
   "outputs": [
    {
     "name": "stdout",
     "output_type": "stream",
     "text": [
      "The total number of words starting with A/a are :  840\n"
     ]
    }
   ],
   "source": [
    "count_A = starts_with_nameletter(tokens)\n",
    "print(\"The total number of words starting with A/a are : \", count_A)"
   ]
  },
  {
   "cell_type": "code",
   "execution_count": 234,
   "id": "18146e4e",
   "metadata": {},
   "outputs": [],
   "source": [
    "sent_tokens = sent_tokenize(text)"
   ]
  },
  {
   "cell_type": "code",
   "execution_count": 235,
   "id": "d43e1479",
   "metadata": {},
   "outputs": [
    {
     "name": "stdout",
     "output_type": "stream",
     "text": [
      "The total number of sentence tokens are :  366\n"
     ]
    }
   ],
   "source": [
    "count_sentence_tokens = len(sent_tokens)\n",
    "print(\"The total number of sentence tokens are : \" , count_sentence_tokens)"
   ]
  },
  {
   "cell_type": "code",
   "execution_count": 236,
   "id": "cf415dac",
   "metadata": {},
   "outputs": [
    {
     "name": "stdout",
     "output_type": "stream",
     "text": [
      "The total number of special characters are :  1055\n"
     ]
    }
   ],
   "source": [
    "specialCharCount = 0\n",
    "for char in text:\n",
    "    if not (char.isalnum() or char.isspace()):\n",
    "        specialCharCount += 1\n",
    "print(\"The total number of special characters are : \" , specialCharCount)"
   ]
  },
  {
   "cell_type": "code",
   "execution_count": 237,
   "id": "e3e36d4c",
   "metadata": {},
   "outputs": [],
   "source": [
    "data = [count_sentence_tokens, count_words, count_spaces, count_characters, count_verbs, count_A, specialCharCount]"
   ]
  },
  {
   "cell_type": "code",
   "execution_count": 238,
   "id": "d4eecced",
   "metadata": {},
   "outputs": [],
   "source": [
    "features_list = [\"sentence length\" , \"word count\" , \"space count\" , \"char count\" , \"verb count\" , \"name count\" , \"special char count\"]"
   ]
  },
  {
   "cell_type": "code",
   "execution_count": 240,
   "id": "516dd2ca",
   "metadata": {},
   "outputs": [],
   "source": [
    "data_ = {\n",
    "    \"Features\" : features_list,\n",
    "    \"Count\" : data\n",
    "}"
   ]
  },
  {
   "cell_type": "code",
   "execution_count": 243,
   "id": "af589717",
   "metadata": {},
   "outputs": [],
   "source": [
    "features = pd.DataFrame(data_)"
   ]
  },
  {
   "cell_type": "code",
   "execution_count": 244,
   "id": "f1f2d065",
   "metadata": {},
   "outputs": [
    {
     "data": {
      "text/html": [
       "<div>\n",
       "<style scoped>\n",
       "    .dataframe tbody tr th:only-of-type {\n",
       "        vertical-align: middle;\n",
       "    }\n",
       "\n",
       "    .dataframe tbody tr th {\n",
       "        vertical-align: top;\n",
       "    }\n",
       "\n",
       "    .dataframe thead th {\n",
       "        text-align: right;\n",
       "    }\n",
       "</style>\n",
       "<table border=\"1\" class=\"dataframe\">\n",
       "  <thead>\n",
       "    <tr style=\"text-align: right;\">\n",
       "      <th></th>\n",
       "      <th>Features</th>\n",
       "      <th>Count</th>\n",
       "    </tr>\n",
       "  </thead>\n",
       "  <tbody>\n",
       "    <tr>\n",
       "      <th>0</th>\n",
       "      <td>sentence length</td>\n",
       "      <td>366</td>\n",
       "    </tr>\n",
       "    <tr>\n",
       "      <th>1</th>\n",
       "      <td>word count</td>\n",
       "      <td>8318</td>\n",
       "    </tr>\n",
       "    <tr>\n",
       "      <th>2</th>\n",
       "      <td>space count</td>\n",
       "      <td>14471</td>\n",
       "    </tr>\n",
       "    <tr>\n",
       "      <th>3</th>\n",
       "      <td>char count</td>\n",
       "      <td>95109</td>\n",
       "    </tr>\n",
       "    <tr>\n",
       "      <th>4</th>\n",
       "      <td>verb count</td>\n",
       "      <td>986</td>\n",
       "    </tr>\n",
       "    <tr>\n",
       "      <th>5</th>\n",
       "      <td>name count</td>\n",
       "      <td>840</td>\n",
       "    </tr>\n",
       "    <tr>\n",
       "      <th>6</th>\n",
       "      <td>special char count</td>\n",
       "      <td>1055</td>\n",
       "    </tr>\n",
       "  </tbody>\n",
       "</table>\n",
       "</div>"
      ],
      "text/plain": [
       "             Features  Count\n",
       "0     sentence length    366\n",
       "1          word count   8318\n",
       "2         space count  14471\n",
       "3          char count  95109\n",
       "4          verb count    986\n",
       "5          name count    840\n",
       "6  special char count   1055"
      ]
     },
     "execution_count": 244,
     "metadata": {},
     "output_type": "execute_result"
    }
   ],
   "source": [
    "features"
   ]
  },
  {
   "cell_type": "code",
   "execution_count": 246,
   "id": "9112e361",
   "metadata": {},
   "outputs": [],
   "source": [
    "tfIdf_vectorizer = TfidfVectorizer()"
   ]
  },
  {
   "cell_type": "code",
   "execution_count": 247,
   "id": "65c3f7aa",
   "metadata": {},
   "outputs": [
    {
     "ename": "ValueError",
     "evalue": "Iterable over raw text documents expected, string object received.",
     "output_type": "error",
     "traceback": [
      "\u001b[0;31m---------------------------------------------------------------------------\u001b[0m",
      "\u001b[0;31mValueError\u001b[0m                                Traceback (most recent call last)",
      "Input \u001b[0;32mIn [247]\u001b[0m, in \u001b[0;36m<cell line: 1>\u001b[0;34m()\u001b[0m\n\u001b[0;32m----> 1\u001b[0m \u001b[43mtfIdf_vectorizer\u001b[49m\u001b[38;5;241;43m.\u001b[39;49m\u001b[43mfit\u001b[49m\u001b[43m(\u001b[49m\u001b[43mtext\u001b[49m\u001b[43m)\u001b[49m\n",
      "File \u001b[0;32m/opt/anaconda3/lib/python3.9/site-packages/sklearn/feature_extraction/text.py:2048\u001b[0m, in \u001b[0;36mTfidfVectorizer.fit\u001b[0;34m(self, raw_documents, y)\u001b[0m\n\u001b[1;32m   2041\u001b[0m \u001b[38;5;28mself\u001b[39m\u001b[38;5;241m.\u001b[39m_warn_for_unused_params()\n\u001b[1;32m   2042\u001b[0m \u001b[38;5;28mself\u001b[39m\u001b[38;5;241m.\u001b[39m_tfidf \u001b[38;5;241m=\u001b[39m TfidfTransformer(\n\u001b[1;32m   2043\u001b[0m     norm\u001b[38;5;241m=\u001b[39m\u001b[38;5;28mself\u001b[39m\u001b[38;5;241m.\u001b[39mnorm,\n\u001b[1;32m   2044\u001b[0m     use_idf\u001b[38;5;241m=\u001b[39m\u001b[38;5;28mself\u001b[39m\u001b[38;5;241m.\u001b[39muse_idf,\n\u001b[1;32m   2045\u001b[0m     smooth_idf\u001b[38;5;241m=\u001b[39m\u001b[38;5;28mself\u001b[39m\u001b[38;5;241m.\u001b[39msmooth_idf,\n\u001b[1;32m   2046\u001b[0m     sublinear_tf\u001b[38;5;241m=\u001b[39m\u001b[38;5;28mself\u001b[39m\u001b[38;5;241m.\u001b[39msublinear_tf,\n\u001b[1;32m   2047\u001b[0m )\n\u001b[0;32m-> 2048\u001b[0m X \u001b[38;5;241m=\u001b[39m \u001b[38;5;28;43msuper\u001b[39;49m\u001b[43m(\u001b[49m\u001b[43m)\u001b[49m\u001b[38;5;241;43m.\u001b[39;49m\u001b[43mfit_transform\u001b[49m\u001b[43m(\u001b[49m\u001b[43mraw_documents\u001b[49m\u001b[43m)\u001b[49m\n\u001b[1;32m   2049\u001b[0m \u001b[38;5;28mself\u001b[39m\u001b[38;5;241m.\u001b[39m_tfidf\u001b[38;5;241m.\u001b[39mfit(X)\n\u001b[1;32m   2050\u001b[0m \u001b[38;5;28;01mreturn\u001b[39;00m \u001b[38;5;28mself\u001b[39m\n",
      "File \u001b[0;32m/opt/anaconda3/lib/python3.9/site-packages/sklearn/feature_extraction/text.py:1317\u001b[0m, in \u001b[0;36mCountVectorizer.fit_transform\u001b[0;34m(self, raw_documents, y)\u001b[0m\n\u001b[1;32m   1313\u001b[0m \u001b[38;5;66;03m# We intentionally don't call the transform method to make\u001b[39;00m\n\u001b[1;32m   1314\u001b[0m \u001b[38;5;66;03m# fit_transform overridable without unwanted side effects in\u001b[39;00m\n\u001b[1;32m   1315\u001b[0m \u001b[38;5;66;03m# TfidfVectorizer.\u001b[39;00m\n\u001b[1;32m   1316\u001b[0m \u001b[38;5;28;01mif\u001b[39;00m \u001b[38;5;28misinstance\u001b[39m(raw_documents, \u001b[38;5;28mstr\u001b[39m):\n\u001b[0;32m-> 1317\u001b[0m     \u001b[38;5;28;01mraise\u001b[39;00m \u001b[38;5;167;01mValueError\u001b[39;00m(\n\u001b[1;32m   1318\u001b[0m         \u001b[38;5;124m\"\u001b[39m\u001b[38;5;124mIterable over raw text documents expected, string object received.\u001b[39m\u001b[38;5;124m\"\u001b[39m\n\u001b[1;32m   1319\u001b[0m     )\n\u001b[1;32m   1321\u001b[0m \u001b[38;5;28mself\u001b[39m\u001b[38;5;241m.\u001b[39m_validate_params()\n\u001b[1;32m   1322\u001b[0m \u001b[38;5;28mself\u001b[39m\u001b[38;5;241m.\u001b[39m_validate_vocabulary()\n",
      "\u001b[0;31mValueError\u001b[0m: Iterable over raw text documents expected, string object received."
     ]
    }
   ],
   "source": [
    "tfIdf_vectorizer.fit(text)"
   ]
  },
  {
   "cell_type": "code",
   "execution_count": null,
   "id": "4a2aa866",
   "metadata": {},
   "outputs": [],
   "source": []
  }
 ],
 "metadata": {
  "kernelspec": {
   "display_name": "Python 3 (ipykernel)",
   "language": "python",
   "name": "python3"
  },
  "language_info": {
   "codemirror_mode": {
    "name": "ipython",
    "version": 3
   },
   "file_extension": ".py",
   "mimetype": "text/x-python",
   "name": "python",
   "nbconvert_exporter": "python",
   "pygments_lexer": "ipython3",
   "version": "3.9.16"
  }
 },
 "nbformat": 4,
 "nbformat_minor": 5
}
